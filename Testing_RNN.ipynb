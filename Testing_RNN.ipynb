{
 "cells": [
  {
   "cell_type": "code",
   "execution_count": null,
   "metadata": {},
   "outputs": [],
   "source": [
    "# basic libraries import\n",
    "import os\n",
    "import re\n",
    "import time\n",
    "import math\n",
    "import string\n",
    "import numpy as np \n",
    "import pandas as pd\n",
    "import tensorflow as tf\n",
    "import matplotlib.pyplot as plt\n",
    "import seaborn as sns\n",
    "from gensim.models import KeyedVectors\n",
    "import helpers.data_mining_helpers as dmh\n",
    "from scipy.sparse import csr_matrix, vstack, hstack"
   ]
  },
  {
   "cell_type": "code",
   "execution_count": null,
   "metadata": {},
   "outputs": [],
   "source": [
    "# nltk library\n",
    "import nltk\n",
    "from nltk.corpus import stopwords"
   ]
  },
  {
   "cell_type": "code",
   "execution_count": null,
   "metadata": {},
   "outputs": [],
   "source": [
    "# sklearn library\n",
    "from sklearn.preprocessing import OneHotEncoder\n",
    "from sklearn.preprocessing import LabelEncoder, MultiLabelBinarizer\n",
    "from sklearn.feature_extraction.text import CountVectorizer\n",
    "from sklearn.feature_extraction.text import TfidfVectorizer\n",
    "from sklearn.model_selection import train_test_split\n",
    "from sklearn.naive_bayes import MultinomialNB\n",
    "from sklearn.linear_model import LogisticRegression\n",
    "from sklearn.model_selection import cross_val_score\n",
    "from sklearn.metrics import f1_score, classification_report"
   ]
  },
  {
   "cell_type": "code",
   "execution_count": null,
   "metadata": {},
   "outputs": [
    {
     "name": "stderr",
     "output_type": "stream",
     "text": [
      "Using TensorFlow backend.\n"
     ]
    }
   ],
   "source": [
    "# keras library\n",
    "# preprocess\n",
    "from keras.utils import to_categorical\n",
    "from keras.preprocessing.text import Tokenizer\n",
    "from keras.preprocessing.sequence import pad_sequences\n",
    "# model\n",
    "from keras.models import Model, Sequential\n",
    "from keras.layers import Dense, Input, Embedding\n",
    "from keras.layers import ReLU, Softmax\n",
    "from keras.callbacks import Callback\n",
    "# RNN\n",
    "from keras.layers import Dropout, LSTM, Bidirectional, CuDNNLSTM, CuDNNGRU\n",
    "# CNN\n",
    "from keras.layers import GlobalMaxPooling1D, GlobalMaxPool1D\n",
    "from keras.layers import GlobalAveragePooling1D\n",
    "from keras.layers import Conv1D, MaxPooling1D\n",
    "from keras.layers import Flatten\n",
    "from keras.layers import Concatenate\n",
    "# load model\n",
    "from keras.models import model_from_json"
   ]
  },
  {
   "cell_type": "code",
   "execution_count": null,
   "metadata": {},
   "outputs": [],
   "source": [
    "# plz setting your own relative data_path for trainning set\n",
    "# plz import the necessary file by your own\n",
    "# or just comment out the part you don't need to import\n",
    "dir_data = 'data'\n",
    "\n",
    "f_train_df = os.path.join(dir_data, 'train_df.pkl')\n",
    "f_test_df = os.path.join(dir_data, 'test_df.pkl')\n",
    "f_public_test_df = os.path.join(dir_data, 'public_test_df.pkl')\n",
    "f_test_submission = os.path.join(dir_data, 'task1_sample_submission.csv')\n",
    "\n",
    "# read file and convert into pandas dataframe\n",
    "train_df = pd.read_pickle(f_train_df)\n",
    "test_df = pd.read_pickle(f_test_df)\n",
    "public_test_df = pd.read_pickle(f_public_test_df)\n",
    "test_submission = pd.read_csv(f_test_submission)"
   ]
  },
  {
   "cell_type": "code",
   "execution_count": null,
   "metadata": {},
   "outputs": [],
   "source": [
    "# utils\n",
    "def label_decode(le, vec):\n",
    "    dec = np.where(vec > 0.5, 1, 0)\n",
    "    return dec"
   ]
  },
  {
   "cell_type": "code",
   "execution_count": null,
   "metadata": {},
   "outputs": [],
   "source": [
    "# csv_logger\n",
    "from keras.callbacks import CSVLogger\n",
    "\n",
    "csv_logger = CSVLogger('logs/training_log.csv')"
   ]
  },
  {
   "cell_type": "code",
   "execution_count": null,
   "metadata": {},
   "outputs": [],
   "source": [
    "# micro f1 score metrics\n",
    "class Metrics(Callback):\n",
    "    def on_train_begin(self, logs=None):\n",
    "        self.val_f1s = []\n",
    "\n",
    "    def on_epoch_end(self, epoch, logs=None):\n",
    "        y_pred = self.model.predict(self.validation_data[0])\n",
    "        y_pred = label_decode(label_encoder, y_pred)\n",
    "        y_true = label_decode(label_encoder, self.validation_data[1])\n",
    "        _val_f1 = f1_score(y_true, y_pred, average='micro')\n",
    "        self.val_f1s.append(_val_f1)\n",
    "        print(classification_report(y_true=y_true, y_pred=y_pred))\n",
    "        print(_val_f1)\n",
    "    \n",
    "metrics = Metrics()"
   ]
  },
  {
   "cell_type": "markdown",
   "metadata": {},
   "source": [
    "---\n",
    "---"
   ]
  },
  {
   "cell_type": "markdown",
   "metadata": {},
   "source": [
    "#### data preprocess"
   ]
  },
  {
   "cell_type": "code",
   "execution_count": null,
   "metadata": {},
   "outputs": [],
   "source": [
    "train_df['label'] = train_df['Task'].apply(lambda t : t.split('/'))\n",
    "test_df['label'] = test_df['Task'].apply(lambda t : t.split('/'))"
   ]
  },
  {
   "cell_type": "markdown",
   "metadata": {},
   "source": [
    "#### sentence preprocess"
   ]
  },
  {
   "cell_type": "code",
   "execution_count": null,
   "metadata": {},
   "outputs": [
    {
     "data": {
      "text/html": [
       "<div>\n",
       "<style scoped>\n",
       "    .dataframe tbody tr th:only-of-type {\n",
       "        vertical-align: middle;\n",
       "    }\n",
       "\n",
       "    .dataframe tbody tr th {\n",
       "        vertical-align: top;\n",
       "    }\n",
       "\n",
       "    .dataframe thead th {\n",
       "        text-align: right;\n",
       "    }\n",
       "</style>\n",
       "<table border=\"1\" class=\"dataframe\">\n",
       "  <thead>\n",
       "    <tr style=\"text-align: right;\">\n",
       "      <th></th>\n",
       "      <th>Sentence</th>\n",
       "      <th>Task</th>\n",
       "      <th>Doc_no.</th>\n",
       "      <th>Rank</th>\n",
       "      <th>Rank%</th>\n",
       "      <th>Num_of_sentences</th>\n",
       "      <th>Is_first</th>\n",
       "      <th>Is_last</th>\n",
       "      <th>label</th>\n",
       "    </tr>\n",
       "  </thead>\n",
       "  <tbody>\n",
       "    <tr>\n",
       "      <th>0</th>\n",
       "      <td>While service-dominant logic proposes that all...</td>\n",
       "      <td>BACKGROUND</td>\n",
       "      <td>5848</td>\n",
       "      <td>0</td>\n",
       "      <td>0.000000</td>\n",
       "      <td>9</td>\n",
       "      <td>1</td>\n",
       "      <td>0</td>\n",
       "      <td>[BACKGROUND]</td>\n",
       "    </tr>\n",
       "    <tr>\n",
       "      <th>1</th>\n",
       "      <td>Three longitudinal case studies in B2B equipme...</td>\n",
       "      <td>OBJECTIVES</td>\n",
       "      <td>5848</td>\n",
       "      <td>1</td>\n",
       "      <td>0.111111</td>\n",
       "      <td>9</td>\n",
       "      <td>0</td>\n",
       "      <td>0</td>\n",
       "      <td>[OBJECTIVES]</td>\n",
       "    </tr>\n",
       "    <tr>\n",
       "      <th>2</th>\n",
       "      <td>We found the nature of value, degree of contex...</td>\n",
       "      <td>METHODS</td>\n",
       "      <td>5848</td>\n",
       "      <td>2</td>\n",
       "      <td>0.222222</td>\n",
       "      <td>9</td>\n",
       "      <td>0</td>\n",
       "      <td>0</td>\n",
       "      <td>[METHODS]</td>\n",
       "    </tr>\n",
       "    <tr>\n",
       "      <th>3</th>\n",
       "      <td>To counter this, the firm uses (a) Direct Serv...</td>\n",
       "      <td>METHODS</td>\n",
       "      <td>5848</td>\n",
       "      <td>3</td>\n",
       "      <td>0.333333</td>\n",
       "      <td>9</td>\n",
       "      <td>0</td>\n",
       "      <td>0</td>\n",
       "      <td>[METHODS]</td>\n",
       "    </tr>\n",
       "    <tr>\n",
       "      <th>4</th>\n",
       "      <td>The co-creation of complex multidimensional va...</td>\n",
       "      <td>METHODS</td>\n",
       "      <td>5848</td>\n",
       "      <td>4</td>\n",
       "      <td>0.444444</td>\n",
       "      <td>9</td>\n",
       "      <td>0</td>\n",
       "      <td>0</td>\n",
       "      <td>[METHODS]</td>\n",
       "    </tr>\n",
       "  </tbody>\n",
       "</table>\n",
       "</div>"
      ],
      "text/plain": [
       "                                            Sentence        Task  Doc_no.  \\\n",
       "0  While service-dominant logic proposes that all...  BACKGROUND     5848   \n",
       "1  Three longitudinal case studies in B2B equipme...  OBJECTIVES     5848   \n",
       "2  We found the nature of value, degree of contex...     METHODS     5848   \n",
       "3  To counter this, the firm uses (a) Direct Serv...     METHODS     5848   \n",
       "4  The co-creation of complex multidimensional va...     METHODS     5848   \n",
       "\n",
       "   Rank     Rank%  Num_of_sentences  Is_first  Is_last         label  \n",
       "0     0  0.000000                 9         1        0  [BACKGROUND]  \n",
       "1     1  0.111111                 9         0        0  [OBJECTIVES]  \n",
       "2     2  0.222222                 9         0        0     [METHODS]  \n",
       "3     3  0.333333                 9         0        0     [METHODS]  \n",
       "4     4  0.444444                 9         0        0     [METHODS]  "
      ]
     },
     "execution_count": null,
     "metadata": {},
     "output_type": "execute_result"
    }
   ],
   "source": [
    "train_df.head()"
   ]
  },
  {
   "cell_type": "code",
   "execution_count": null,
   "metadata": {},
   "outputs": [],
   "source": [
    "punctuations = '!\"#$%&()*+,-./:;<=>?@[\\]^_`{|}~' + \"“”\""
   ]
  },
  {
   "cell_type": "code",
   "execution_count": null,
   "metadata": {},
   "outputs": [],
   "source": [
    "term_convert_dict = dmh.term_convert_dict_easy\n",
    "stopwords = dmh.stop_word_to_remove"
   ]
  },
  {
   "cell_type": "code",
   "execution_count": null,
   "metadata": {},
   "outputs": [],
   "source": [
    "REPLACE_BY_SPACE_RE = re.compile('[/(){}\\[\\]\\|@,;#+_]')\n",
    "BAD_SYMBOLS_RE = re.compile('[^0-9a-z ]')\n",
    "TRANSLATOR = str.maketrans(punctuation, ' ' * len(punctuation))\n",
    "STOPWORDS = set(stopwords.words('english'))"
   ]
  },
  {
   "cell_type": "code",
   "execution_count": null,
   "metadata": {},
   "outputs": [],
   "source": [
    "# utils\n",
    "def clean_text(text):\n",
    "    text = text.lower()\n",
    "#     tokens = nltk.word_tokenize(text)\n",
    "#     tokens = [w for w in tokens if not w in stopwords] \n",
    "#     text = ' '.join(tokens)\n",
    "    \n",
    "    return text"
   ]
  },
  {
   "cell_type": "code",
   "execution_count": null,
   "metadata": {},
   "outputs": [],
   "source": [
    "def df_preprocess(df):\n",
    "    # text preprocess   \n",
    "    df['p_text'] = df['Sentence'].apply(clean_text)\n",
    "#     df['p_text'] = df['p_text'].str.replace('\\d+', '')\n",
    "    df['tmp'] = df['p_text'].apply(lambda s : nltk.word_tokenize(s))\n",
    "\n",
    "    # replace common terms with words in pre-trained model\n",
    "    df['tmp'] = df['tmp'].apply(lambda u : [term_convert_dict[w] if w in term_convert_dict else w for w in u])\n",
    "\n",
    "    df['p_text'] = df['tmp'].apply(lambda a : ' '.join(a))\n",
    "    \n",
    "    df.drop(['tmp'], axis=1, inplace=True)"
   ]
  },
  {
   "cell_type": "code",
   "execution_count": null,
   "metadata": {},
   "outputs": [
    {
     "name": "stdout",
     "output_type": "stream",
     "text": [
      "time : 5.345385313034058 sec\n"
     ]
    }
   ],
   "source": [
    "start = time.time()\n",
    "\n",
    "df_preprocess(train_df)\n",
    "train_df.head()\n",
    "\n",
    "print(f'time : {time.time() - start} sec')"
   ]
  },
  {
   "cell_type": "code",
   "execution_count": null,
   "metadata": {},
   "outputs": [],
   "source": [
    "start = time.time()\n",
    "\n",
    "df_preprocess(test_df)\n",
    "train_df.head()\n",
    "\n",
    "print(f'time : {time.time() - start} sec')"
   ]
  },
  {
   "cell_type": "code",
   "execution_count": null,
   "metadata": {},
   "outputs": [
    {
     "name": "stdout",
     "output_type": "stream",
     "text": [
      "time : 18.351952075958252 sec\n"
     ]
    }
   ],
   "source": [
    "start = time.time()\n",
    "\n",
    "df_preprocess(test_df)\n",
    "df_preprocess(public_test_df)\n",
    "\n",
    "print(f'time : {time.time() - start} sec')"
   ]
  },
  {
   "cell_type": "markdown",
   "metadata": {},
   "source": [
    "---\n",
    "---"
   ]
  },
  {
   "cell_type": "markdown",
   "metadata": {},
   "source": [
    "#### load pre-train model"
   ]
  },
  {
   "cell_type": "code",
   "execution_count": null,
   "metadata": {},
   "outputs": [
    {
     "name": "stdout",
     "output_type": "stream",
     "text": [
      "load ok\n"
     ]
    }
   ],
   "source": [
    "# GoogleNews\n",
    "model_path = \"data/GoogleNews-vectors-negative300.bin.gz\"\n",
    "w2v_google_model = KeyedVectors.load_word2vec_format(model_path, binary=True)\n",
    "\n",
    "print('load ok')"
   ]
  },
  {
   "cell_type": "code",
   "execution_count": null,
   "metadata": {},
   "outputs": [
    {
     "name": "stdout",
     "output_type": "stream",
     "text": [
      "load ok\n"
     ]
    }
   ],
   "source": [
    "# GloVe Wikipedia 2014 + Gigaword 5\n",
    "model_path = \"data/glove.6B/word2vec.6B.300d.txt\"\n",
    "w2v_glove_wiki_300_model = KeyedVectors.load_word2vec_format(model_path, binary=False)\n",
    "\n",
    "print('load ok')"
   ]
  },
  {
   "cell_type": "code",
   "execution_count": null,
   "metadata": {},
   "outputs": [
    {
     "name": "stdout",
     "output_type": "stream",
     "text": [
      "load ok\n"
     ]
    }
   ],
   "source": [
    "# GloVe Common Crawl\n",
    "model_path = \"data/glove.42B/word2vec.42B.300d.txt\"\n",
    "w2v_glove_300_model = KeyedVectors.load_word2vec_format(model_path, binary=False)\n",
    "\n",
    "print('load ok')"
   ]
  },
  {
   "cell_type": "markdown",
   "metadata": {},
   "source": [
    "---\n",
    "---"
   ]
  },
  {
   "cell_type": "markdown",
   "metadata": {},
   "source": [
    "#### RNN train data prepare"
   ]
  },
  {
   "cell_type": "code",
   "execution_count": null,
   "metadata": {},
   "outputs": [],
   "source": [
    "df = train_df\n",
    "word_model = w2v_glove_300_model\n",
    "# word_model = w2v_glove_wiki_200_model"
   ]
  },
  {
   "cell_type": "code",
   "execution_count": null,
   "metadata": {},
   "outputs": [],
   "source": [
    "MAX_NB_WORDS = 5000\n",
    "MAX_LENGTH = 60\n",
    "EMBEDDING_DIM = word_model.vector_size"
   ]
  },
  {
   "cell_type": "code",
   "execution_count": null,
   "metadata": {},
   "outputs": [
    {
     "name": "stdout",
     "output_type": "stream",
     "text": [
      "Found 32938 unique tokens.\n"
     ]
    }
   ],
   "source": [
    "tokenizer = Tokenizer(num_words=MAX_NB_WORDS, filters=\"\", lower=True)\n",
    "tokenizer.fit_on_texts(df['p_text'].values)\n",
    "word_index = tokenizer.word_index\n",
    "print('Found %s unique tokens.' % len(word_index))"
   ]
  },
  {
   "cell_type": "code",
   "execution_count": null,
   "metadata": {},
   "outputs": [
    {
     "name": "stdout",
     "output_type": "stream",
     "text": [
      "Shape of data tensor: (37551, 60)\n"
     ]
    }
   ],
   "source": [
    "X = tokenizer.texts_to_sequences(df['p_text'].values)\n",
    "X = pad_sequences(X, maxlen=MAX_LENGTH, padding='post')\n",
    "print('Shape of data tensor:', X.shape)"
   ]
  },
  {
   "cell_type": "code",
   "execution_count": null,
   "metadata": {},
   "outputs": [
    {
     "name": "stdout",
     "output_type": "stream",
     "text": [
      "Shape of label tensor: (37551, 6)\n"
     ]
    }
   ],
   "source": [
    "label_encoder = MultiLabelBinarizer()\n",
    "enc = label_encoder.fit_transform(df['label'])\n",
    "# Y = to_categorical(enc)\n",
    "Y = enc.astype(\"float32\")\n",
    "\n",
    "print('Shape of label tensor:', Y.shape)"
   ]
  },
  {
   "cell_type": "code",
   "execution_count": null,
   "metadata": {},
   "outputs": [
    {
     "name": "stdout",
     "output_type": "stream",
     "text": [
      "(30040, 60) (30040, 6)\n",
      "(7511, 60) (7511, 6)\n"
     ]
    }
   ],
   "source": [
    "X_train, X_test, Y_train, Y_test = train_test_split(X, Y, test_size = 0.2, random_state = 22)\n",
    "print(X_train.shape, Y_train.shape)\n",
    "print(X_test.shape, Y_test.shape)"
   ]
  },
  {
   "cell_type": "code",
   "execution_count": null,
   "metadata": {},
   "outputs": [],
   "source": [
    "vocab_size = len(tokenizer.word_index) + 1\n",
    "\n",
    "embedding_matrix = np.zeros((vocab_size, EMBEDDING_DIM))\n",
    "for word, i in tokenizer.word_index.items():\n",
    "    if word in word_model.vocab:\n",
    "        embedding_matrix[i] = word_model[word]"
   ]
  },
  {
   "cell_type": "code",
   "execution_count": null,
   "metadata": {},
   "outputs": [
    {
     "data": {
      "text/plain": [
       "(32939, 300)"
      ]
     },
     "execution_count": null,
     "metadata": {},
     "output_type": "execute_result"
    }
   ],
   "source": [
    "embedding_matrix.shape"
   ]
  },
  {
   "cell_type": "code",
   "execution_count": null,
   "metadata": {},
   "outputs": [],
   "source": [
    "N = 5000\n",
    "nonzero_elements = np.count_nonzero(np.count_nonzero(embedding_matrix[:N], axis=1))\n",
    "nonzero_elements / N"
   ]
  },
  {
   "cell_type": "code",
   "execution_count": null,
   "metadata": {},
   "outputs": [],
   "source": [
    "aa = np.count_nonzero(embedding_matrix[:N], axis=1)\n",
    "idx = np.where(aa == 0)[0]"
   ]
  },
  {
   "cell_type": "code",
   "execution_count": null,
   "metadata": {},
   "outputs": [],
   "source": [
    "for key, val in word_index.items():\n",
    "    if val in idx:\n",
    "        print(key)"
   ]
  },
  {
   "cell_type": "markdown",
   "metadata": {},
   "source": [
    "---\n",
    "---"
   ]
  },
  {
   "cell_type": "markdown",
   "metadata": {},
   "source": [
    "#### RNN"
   ]
  },
  {
   "cell_type": "code",
   "execution_count": null,
   "metadata": {},
   "outputs": [
    {
     "name": "stdout",
     "output_type": "stream",
     "text": [
      "WARNING:tensorflow:From C:\\Users\\pclightyear\\Anaconda3\\envs\\Data_Mining\\lib\\site-packages\\keras\\backend\\tensorflow_backend.py:74: The name tf.get_default_graph is deprecated. Please use tf.compat.v1.get_default_graph instead.\n",
      "\n"
     ]
    }
   ],
   "source": [
    "# pre-train embedding\n",
    "embedding_layer = Embedding(vocab_size, \n",
    "                            EMBEDDING_DIM, \n",
    "                            weights=[embedding_matrix],\n",
    "#                             mask_zero=True,\n",
    "                            input_length=MAX_LENGTH, \n",
    "                            trainable=False)"
   ]
  },
  {
   "cell_type": "code",
   "execution_count": null,
   "metadata": {},
   "outputs": [],
   "source": [
    "kernel_size = 2\n",
    "filters = 256\n",
    "pool_size = 2\n",
    "\n",
    "hidden_nodes = 128\n",
    "classes = len(label_encoder.classes_)"
   ]
  },
  {
   "cell_type": "code",
   "execution_count": null,
   "metadata": {},
   "outputs": [
    {
     "name": "stdout",
     "output_type": "stream",
     "text": [
      "Train on 30040 samples, validate on 7511 samples\n",
      "Epoch 1/8\n",
      "30040/30040 [==============================] - 14s 456us/step - loss: 0.3490 - acc: 0.8515 - val_loss: 0.3262 - val_acc: 0.8631\n",
      "              precision    recall  f1-score   support\n",
      "\n",
      "           0       0.73      0.76      0.75      2166\n",
      "           1       0.72      0.02      0.04       825\n",
      "           2       0.64      0.57      0.60      2212\n",
      "           3       0.66      0.33      0.44      1439\n",
      "           4       0.85      0.08      0.15       132\n",
      "           5       0.74      0.55      0.63      1910\n",
      "\n",
      "   micro avg       0.70      0.51      0.59      8684\n",
      "   macro avg       0.72      0.38      0.43      8684\n",
      "weighted avg       0.70      0.51      0.56      8684\n",
      " samples avg       0.58      0.54      0.55      8684\n",
      "\n",
      "0.5906164974450859\n",
      "Epoch 2/8\n",
      "  512/30040 [..............................] - ETA: 11s - loss: 0.3102 - acc: 0.8662"
     ]
    },
    {
     "name": "stderr",
     "output_type": "stream",
     "text": [
      "C:\\Users\\pclightyear\\Anaconda3\\envs\\Data_Mining\\lib\\site-packages\\sklearn\\metrics\\classification.py:1437: UndefinedMetricWarning: Precision and F-score are ill-defined and being set to 0.0 in samples with no predicted labels.\n",
      "  'precision', 'predicted', average, warn_for)\n"
     ]
    },
    {
     "name": "stdout",
     "output_type": "stream",
     "text": [
      "30040/30040 [==============================] - 12s 413us/step - loss: 0.3114 - acc: 0.8684 - val_loss: 0.3152 - val_acc: 0.8652\n",
      "              precision    recall  f1-score   support\n",
      "\n",
      "           0       0.77      0.73      0.75      2166\n",
      "           1       0.48      0.18      0.26       825\n",
      "           2       0.68      0.54      0.60      2212\n",
      "           3       0.71      0.21      0.33      1439\n",
      "           4       0.72      0.14      0.23       132\n",
      "           5       0.69      0.65      0.67      1910\n",
      "\n",
      "   micro avg       0.71      0.52      0.60      8684\n",
      "   macro avg       0.68      0.41      0.47      8684\n",
      "weighted avg       0.69      0.52      0.57      8684\n",
      " samples avg       0.57      0.54      0.54      8684\n",
      "\n",
      "0.5961295471171112\n",
      "Epoch 3/8\n",
      "30040/30040 [==============================] - 13s 420us/step - loss: 0.2918 - acc: 0.8770 - val_loss: 0.3153 - val_acc: 0.8666\n",
      "              precision    recall  f1-score   support\n",
      "\n",
      "           0       0.82      0.67      0.74      2166\n",
      "           1       0.54      0.12      0.20       825\n",
      "           2       0.69      0.52      0.59      2212\n",
      "           3       0.57      0.52      0.54      1439\n",
      "           4       0.68      0.13      0.22       132\n",
      "           5       0.73      0.58      0.64      1910\n",
      "\n",
      "   micro avg       0.71      0.53      0.60      8684\n",
      "   macro avg       0.67      0.42      0.49      8684\n",
      "weighted avg       0.70      0.53      0.59      8684\n",
      " samples avg       0.58      0.55      0.56      8684\n",
      "\n",
      "0.6029188403882981\n",
      "Epoch 4/8\n",
      "30040/30040 [==============================] - 13s 425us/step - loss: 0.2694 - acc: 0.8872 - val_loss: 0.3176 - val_acc: 0.8670\n",
      "              precision    recall  f1-score   support\n",
      "\n",
      "           0       0.78      0.72      0.75      2166\n",
      "           1       0.43      0.25      0.31       825\n",
      "           2       0.66      0.62      0.64      2212\n",
      "           3       0.65      0.41      0.51      1439\n",
      "           4       0.76      0.10      0.17       132\n",
      "           5       0.72      0.58      0.65      1910\n",
      "\n",
      "   micro avg       0.69      0.56      0.62      8684\n",
      "   macro avg       0.67      0.45      0.50      8684\n",
      "weighted avg       0.68      0.56      0.61      8684\n",
      " samples avg       0.60      0.58      0.58      8684\n",
      "\n",
      "0.6181285432193132\n",
      "Epoch 5/8\n",
      "30040/30040 [==============================] - 12s 411us/step - loss: 0.2400 - acc: 0.9009 - val_loss: 0.3321 - val_acc: 0.8634\n",
      "              precision    recall  f1-score   support\n",
      "\n",
      "           0       0.76      0.73      0.74      2166\n",
      "           1       0.48      0.20      0.28       825\n",
      "           2       0.63      0.66      0.65      2212\n",
      "           3       0.61      0.43      0.50      1439\n",
      "           4       0.44      0.13      0.20       132\n",
      "           5       0.69      0.59      0.63      1910\n",
      "\n",
      "   micro avg       0.67      0.57      0.62      8684\n",
      "   macro avg       0.60      0.45      0.50      8684\n",
      "weighted avg       0.66      0.57      0.60      8684\n",
      " samples avg       0.61      0.60      0.59      8684\n",
      "\n",
      "0.6164007976071785\n",
      "Epoch 6/8\n",
      "30040/30040 [==============================] - 12s 412us/step - loss: 0.2027 - acc: 0.9177 - val_loss: 0.3660 - val_acc: 0.8550\n",
      "              precision    recall  f1-score   support\n",
      "\n",
      "           0       0.81      0.64      0.71      2166\n",
      "           1       0.43      0.33      0.37       825\n",
      "           2       0.66      0.56      0.60      2212\n",
      "           3       0.54      0.49      0.51      1439\n",
      "           4       0.41      0.16      0.23       132\n",
      "           5       0.66      0.56      0.61      1910\n",
      "\n",
      "   micro avg       0.65      0.54      0.59      8684\n",
      "   macro avg       0.58      0.46      0.51      8684\n",
      "weighted avg       0.65      0.54      0.59      8684\n",
      " samples avg       0.58      0.56      0.56      8684\n",
      "\n",
      "0.5895873893110595\n",
      "Epoch 7/8\n",
      "30040/30040 [==============================] - 12s 412us/step - loss: 0.1586 - acc: 0.9379 - val_loss: 0.4124 - val_acc: 0.8494\n",
      "              precision    recall  f1-score   support\n",
      "\n",
      "           0       0.77      0.69      0.73      2166\n",
      "           1       0.34      0.34      0.34       825\n",
      "           2       0.60      0.65      0.62      2212\n",
      "           3       0.54      0.46      0.50      1439\n",
      "           4       0.45      0.16      0.23       132\n",
      "           5       0.66      0.57      0.61      1910\n",
      "\n",
      "   micro avg       0.62      0.57      0.59      8684\n",
      "   macro avg       0.56      0.48      0.51      8684\n",
      "weighted avg       0.62      0.57      0.59      8684\n",
      " samples avg       0.59      0.60      0.58      8684\n",
      "\n",
      "0.5944072657743785\n",
      "Epoch 8/8\n",
      "30040/30040 [==============================] - 12s 409us/step - loss: 0.1162 - acc: 0.9565 - val_loss: 0.4719 - val_acc: 0.8460\n",
      "              precision    recall  f1-score   support\n",
      "\n",
      "           0       0.74      0.74      0.74      2166\n",
      "           1       0.35      0.35      0.35       825\n",
      "           2       0.64      0.54      0.58      2212\n",
      "           3       0.50      0.50      0.50      1439\n",
      "           4       0.30      0.17      0.21       132\n",
      "           5       0.63      0.59      0.61      1910\n",
      "\n",
      "   micro avg       0.61      0.57      0.59      8684\n",
      "   macro avg       0.53      0.48      0.50      8684\n",
      "weighted avg       0.61      0.57      0.59      8684\n",
      " samples avg       0.59      0.59      0.57      8684\n",
      "\n",
      "0.5874450124836523\n",
      "time : 110.08999967575073 sec\n"
     ]
    }
   ],
   "source": [
    "RNN = Sequential()\n",
    "RNN.add(embedding_layer)\n",
    "\n",
    "RNN.add(Bidirectional(CuDNNGRU(hidden_nodes, return_sequences=True)))\n",
    "RNN.add(Bidirectional(CuDNNGRU(hidden_nodes)))\n",
    "\n",
    "RNN.add(Dense(classes, activation='sigmoid'))\n",
    "RNN.compile(loss='binary_crossentropy', optimizer='adam', metrics=['accuracy'])\n",
    "\n",
    "epochs = 8\n",
    "batch_size = 32\n",
    "\n",
    "# cost time calculation\n",
    "start = time.time()\n",
    "\n",
    "# RNN.summary()\n",
    "\n",
    "history = RNN.fit(X_train, Y_train, epochs=epochs, batch_size=batch_size,\n",
    "                    validation_data=(X_test, Y_test), callbacks=[metrics, csv_logger])\n",
    "\n",
    "print(f'time : {time.time() - start} sec')"
   ]
  },
  {
   "cell_type": "code",
   "execution_count": null,
   "metadata": {},
   "outputs": [
    {
     "data": {
      "text/html": [
       "<div>\n",
       "<style scoped>\n",
       "    .dataframe tbody tr th:only-of-type {\n",
       "        vertical-align: middle;\n",
       "    }\n",
       "\n",
       "    .dataframe tbody tr th {\n",
       "        vertical-align: top;\n",
       "    }\n",
       "\n",
       "    .dataframe thead th {\n",
       "        text-align: right;\n",
       "    }\n",
       "</style>\n",
       "<table border=\"1\" class=\"dataframe\">\n",
       "  <thead>\n",
       "    <tr style=\"text-align: right;\">\n",
       "      <th></th>\n",
       "      <th>epoch</th>\n",
       "      <th>acc</th>\n",
       "      <th>loss</th>\n",
       "      <th>val_acc</th>\n",
       "      <th>val_loss</th>\n",
       "    </tr>\n",
       "  </thead>\n",
       "  <tbody>\n",
       "    <tr>\n",
       "      <th>0</th>\n",
       "      <td>0</td>\n",
       "      <td>0.851509</td>\n",
       "      <td>0.349044</td>\n",
       "      <td>0.863112</td>\n",
       "      <td>0.326181</td>\n",
       "    </tr>\n",
       "    <tr>\n",
       "      <th>1</th>\n",
       "      <td>1</td>\n",
       "      <td>0.868448</td>\n",
       "      <td>0.311365</td>\n",
       "      <td>0.865242</td>\n",
       "      <td>0.315208</td>\n",
       "    </tr>\n",
       "    <tr>\n",
       "      <th>2</th>\n",
       "      <td>2</td>\n",
       "      <td>0.877042</td>\n",
       "      <td>0.291757</td>\n",
       "      <td>0.866573</td>\n",
       "      <td>0.315335</td>\n",
       "    </tr>\n",
       "    <tr>\n",
       "      <th>3</th>\n",
       "      <td>3</td>\n",
       "      <td>0.887228</td>\n",
       "      <td>0.269400</td>\n",
       "      <td>0.866973</td>\n",
       "      <td>0.317622</td>\n",
       "    </tr>\n",
       "    <tr>\n",
       "      <th>4</th>\n",
       "      <td>4</td>\n",
       "      <td>0.900871</td>\n",
       "      <td>0.239993</td>\n",
       "      <td>0.863400</td>\n",
       "      <td>0.332058</td>\n",
       "    </tr>\n",
       "  </tbody>\n",
       "</table>\n",
       "</div>"
      ],
      "text/plain": [
       "   epoch       acc      loss   val_acc  val_loss\n",
       "0      0  0.851509  0.349044  0.863112  0.326181\n",
       "1      1  0.868448  0.311365  0.865242  0.315208\n",
       "2      2  0.877042  0.291757  0.866573  0.315335\n",
       "3      3  0.887228  0.269400  0.866973  0.317622\n",
       "4      4  0.900871  0.239993  0.863400  0.332058"
      ]
     },
     "execution_count": null,
     "metadata": {},
     "output_type": "execute_result"
    }
   ],
   "source": [
    "# import the training log\n",
    "training_log = pd.DataFrame()\n",
    "training_log = pd.read_csv(\"logs/training_log.csv\")\n",
    "training_log.head()"
   ]
  },
  {
   "cell_type": "code",
   "execution_count": null,
   "metadata": {},
   "outputs": [
    {
     "data": {
      "image/png": "[encoded data removed]",
      "text/plain": [
       "<Figure size 504x360 with 1 Axes>"
      ]
     },
     "metadata": {
      "needs_background": "light"
     },
     "output_type": "display_data"
    }
   ],
   "source": [
    "plt.figure(figsize=(7, 5))\n",
    "\n",
    "# plot validation macro fl score per epoch\n",
    "# plt.subplot(121)\n",
    "index = np.arange(epochs)\n",
    "plt.plot(index, metrics.val_f1s, marker='', color='r', linewidth=2)\n",
    "\n",
    "plt.title('Training micro fl score per epoch')\n",
    "\n",
    "# plot training and validation loss per epoch\n",
    "# plt.subplot(122)\n",
    "# plt.plot('epoch', 'loss', data=training_log, marker='', color='b', linewidth=2)\n",
    "# plt.plot('epoch', 'val_loss', data=training_log , marker='', color='r', linewidth=2)\n",
    "\n",
    "# plt.title('Training Loss per epoch')\n",
    "# plt.legend()\n",
    "\n",
    "# plt.show()  \n",
    "plt.savefig('f1score_per_epoch.png')"
   ]
  },
  {
   "cell_type": "code",
   "execution_count": null,
   "metadata": {},
   "outputs": [],
   "source": [
    "model = RNN"
   ]
  },
  {
   "cell_type": "code",
   "execution_count": null,
   "metadata": {},
   "outputs": [],
   "source": [
    "# save model\n",
    "model_json = model.to_json()\n",
    "with open(\"models/RNN_v1.json\", \"w\") as json_file:\n",
    "    json_file.write(model_json)"
   ]
  },
  {
   "cell_type": "code",
   "execution_count": null,
   "metadata": {},
   "outputs": [],
   "source": [
    "model.save_weights(\"models/RNN_v1.h5\")\n",
    "print(\"Saved model to disk\")"
   ]
  },
  {
   "cell_type": "markdown",
   "metadata": {},
   "source": [
    "---\n",
    "---"
   ]
  },
  {
   "cell_type": "markdown",
   "metadata": {},
   "source": [
    "### validation"
   ]
  },
  {
   "cell_type": "markdown",
   "metadata": {},
   "source": [
    "#### RNN"
   ]
  },
  {
   "cell_type": "code",
   "execution_count": null,
   "metadata": {},
   "outputs": [],
   "source": [
    "model = RNN\n",
    "df = test_df\n",
    "batch_size = 32"
   ]
  },
  {
   "cell_type": "code",
   "execution_count": null,
   "metadata": {},
   "outputs": [
    {
     "name": "stdout",
     "output_type": "stream",
     "text": [
      "Shape of data tensor: (9316, 60)\n"
     ]
    }
   ],
   "source": [
    "X_private_test = tokenizer.texts_to_sequences(df['p_text'].values)\n",
    "X_private_test = pad_sequences(X_private_test, maxlen=MAX_LENGTH, padding='post')\n",
    "print('Shape of data tensor:', X_private_test.shape)"
   ]
  },
  {
   "cell_type": "code",
   "execution_count": null,
   "metadata": {},
   "outputs": [],
   "source": [
    "Y_private_test_pred = model.predict(X_private_test, batch_size=batch_size)"
   ]
  },
  {
   "cell_type": "code",
   "execution_count": null,
   "metadata": {},
   "outputs": [],
   "source": [
    "Y_private_test_pred_de = label_decode(label_encoder, Y_private_test_pred)"
   ]
  },
  {
   "cell_type": "code",
   "execution_count": null,
   "metadata": {},
   "outputs": [],
   "source": [
    "y_true = label_encoder.transform(df['label'])\n",
    "y_pred = Y_private_test_pred_de"
   ]
  },
  {
   "cell_type": "code",
   "execution_count": null,
   "metadata": {},
   "outputs": [
    {
     "data": {
      "text/plain": [
       "array(['BACKGROUND', 'CONCLUSIONS', 'METHODS', 'OBJECTIVES', 'OTHERS',\n",
       "       'RESULTS'], dtype=object)"
      ]
     },
     "execution_count": null,
     "metadata": {},
     "output_type": "execute_result"
    }
   ],
   "source": [
    "label_encoder.classes_"
   ]
  },
  {
   "cell_type": "code",
   "execution_count": null,
   "metadata": {},
   "outputs": [
    {
     "name": "stdout",
     "output_type": "stream",
     "text": [
      "              precision    recall  f1-score   support\n",
      "\n",
      "  BACKGROUND       0.75      0.69      0.72      2709\n",
      " CONCLUSIONS       0.39      0.19      0.26      1042\n",
      "     METHODS       0.60      0.65      0.62      2585\n",
      "  OBJECTIVES       0.62      0.41      0.49      1887\n",
      "      OTHERS       0.35      0.18      0.24       179\n",
      "     RESULTS       0.65      0.61      0.63      2349\n",
      "\n",
      "   micro avg       0.64      0.56      0.60     10751\n",
      "   macro avg       0.56      0.46      0.49     10751\n",
      "weighted avg       0.63      0.56      0.58     10751\n",
      " samples avg       0.60      0.58      0.58     10751\n",
      "\n"
     ]
    }
   ],
   "source": [
    "print(classification_report(y_true=y_true, y_pred=y_pred, target_names=label_encoder.classes_))"
   ]
  },
  {
   "cell_type": "code",
   "execution_count": null,
   "metadata": {},
   "outputs": [
    {
     "name": "stdout",
     "output_type": "stream",
     "text": [
      "0.6087408408252352\n"
     ]
    }
   ],
   "source": [
    "print(f1_score(y_true, y_pred, average='micro'))"
   ]
  },
  {
   "cell_type": "markdown",
   "metadata": {},
   "source": [
    "---\n",
    "---"
   ]
  },
  {
   "cell_type": "markdown",
   "metadata": {},
   "source": [
    "### Generate Prediction"
   ]
  },
  {
   "cell_type": "code",
   "execution_count": null,
   "metadata": {},
   "outputs": [],
   "source": [
    "# load model\n",
    "# load json and create model\n",
    "json_file = open('models/RNN_v1.json', 'r')\n",
    "loaded_model_json = json_file.read()\n",
    "json_file.close()\n",
    "model = model_from_json(loaded_model_json)\n",
    "# load weights into new model\n",
    "model.load_weights(\"models/RNN_v1.h5\")\n",
    "print(\"Loaded model from disk\")"
   ]
  },
  {
   "cell_type": "code",
   "execution_count": null,
   "metadata": {},
   "outputs": [
    {
     "data": {
      "text/plain": [
       "131166"
      ]
     },
     "execution_count": null,
     "metadata": {},
     "output_type": "execute_result"
    }
   ],
   "source": [
    "N = len(public_test_df)\n",
    "N"
   ]
  },
  {
   "cell_type": "code",
   "execution_count": null,
   "metadata": {},
   "outputs": [],
   "source": [
    "model = model\n",
    "df = public_test_df\n",
    "batch_size = 32"
   ]
  },
  {
   "cell_type": "code",
   "execution_count": null,
   "metadata": {},
   "outputs": [
    {
     "name": "stdout",
     "output_type": "stream",
     "text": [
      "Shape of data tensor: (131166, 60)\n"
     ]
    }
   ],
   "source": [
    "X_public_test = tokenizer.texts_to_sequences(df['p_text'].values)\n",
    "X_public_test = pad_sequences(X_public_test, maxlen=MAX_LENGTH, padding='post')\n",
    "print('Shape of data tensor:', X_public_test.shape)"
   ]
  },
  {
   "cell_type": "code",
   "execution_count": null,
   "metadata": {},
   "outputs": [],
   "source": [
    "Y_public_test_pred = model.predict(X_public_test, batch_size=batch_size)\n",
    "Y_public_test_pred_de = label_decode(label_encoder, Y_public_test_pred)"
   ]
  },
  {
   "cell_type": "code",
   "execution_count": null,
   "metadata": {},
   "outputs": [
    {
     "data": {
      "text/plain": [
       "(131166, 6)"
      ]
     },
     "execution_count": null,
     "metadata": {},
     "output_type": "execute_result"
    }
   ],
   "source": [
    "y_pred = Y_public_test_pred_de\n",
    "y_pred.shape"
   ]
  },
  {
   "cell_type": "code",
   "execution_count": null,
   "metadata": {},
   "outputs": [
    {
     "data": {
      "text/plain": [
       "array(['BACKGROUND', 'CONCLUSIONS', 'METHODS', 'OBJECTIVES', 'OTHERS',\n",
       "       'RESULTS'], dtype=object)"
      ]
     },
     "execution_count": null,
     "metadata": {},
     "output_type": "execute_result"
    }
   ],
   "source": [
    "label_encoder.classes_"
   ]
  },
  {
   "cell_type": "code",
   "execution_count": null,
   "metadata": {},
   "outputs": [],
   "source": [
    "for i, task in enumerate(label_encoder.classes_):\n",
    "    test_submission.loc[:N-1, task] = y_pred[:, i]"
   ]
  },
  {
   "cell_type": "code",
   "execution_count": null,
   "metadata": {},
   "outputs": [
    {
     "data": {
      "text/html": [
       "<div>\n",
       "<style scoped>\n",
       "    .dataframe tbody tr th:only-of-type {\n",
       "        vertical-align: middle;\n",
       "    }\n",
       "\n",
       "    .dataframe tbody tr th {\n",
       "        vertical-align: top;\n",
       "    }\n",
       "\n",
       "    .dataframe thead th {\n",
       "        text-align: right;\n",
       "    }\n",
       "</style>\n",
       "<table border=\"1\" class=\"dataframe\">\n",
       "  <thead>\n",
       "    <tr style=\"text-align: right;\">\n",
       "      <th></th>\n",
       "      <th>order_id</th>\n",
       "      <th>BACKGROUND</th>\n",
       "      <th>OBJECTIVES</th>\n",
       "      <th>METHODS</th>\n",
       "      <th>RESULTS</th>\n",
       "      <th>CONCLUSIONS</th>\n",
       "      <th>OTHERS</th>\n",
       "    </tr>\n",
       "  </thead>\n",
       "  <tbody>\n",
       "    <tr>\n",
       "      <th>0</th>\n",
       "      <td>T00001_S001</td>\n",
       "      <td>1</td>\n",
       "      <td>0</td>\n",
       "      <td>0</td>\n",
       "      <td>0</td>\n",
       "      <td>0</td>\n",
       "      <td>0</td>\n",
       "    </tr>\n",
       "    <tr>\n",
       "      <th>1</th>\n",
       "      <td>T00001_S002</td>\n",
       "      <td>1</td>\n",
       "      <td>0</td>\n",
       "      <td>0</td>\n",
       "      <td>0</td>\n",
       "      <td>0</td>\n",
       "      <td>0</td>\n",
       "    </tr>\n",
       "    <tr>\n",
       "      <th>2</th>\n",
       "      <td>T00001_S003</td>\n",
       "      <td>0</td>\n",
       "      <td>0</td>\n",
       "      <td>0</td>\n",
       "      <td>0</td>\n",
       "      <td>0</td>\n",
       "      <td>0</td>\n",
       "    </tr>\n",
       "    <tr>\n",
       "      <th>3</th>\n",
       "      <td>T00001_S004</td>\n",
       "      <td>0</td>\n",
       "      <td>1</td>\n",
       "      <td>0</td>\n",
       "      <td>0</td>\n",
       "      <td>0</td>\n",
       "      <td>0</td>\n",
       "    </tr>\n",
       "    <tr>\n",
       "      <th>4</th>\n",
       "      <td>T00001_S005</td>\n",
       "      <td>0</td>\n",
       "      <td>0</td>\n",
       "      <td>0</td>\n",
       "      <td>1</td>\n",
       "      <td>0</td>\n",
       "      <td>0</td>\n",
       "    </tr>\n",
       "  </tbody>\n",
       "</table>\n",
       "</div>"
      ],
      "text/plain": [
       "      order_id  BACKGROUND  OBJECTIVES  METHODS  RESULTS  CONCLUSIONS  OTHERS\n",
       "0  T00001_S001           1           0        0        0            0       0\n",
       "1  T00001_S002           1           0        0        0            0       0\n",
       "2  T00001_S003           0           0        0        0            0       0\n",
       "3  T00001_S004           0           1        0        0            0       0\n",
       "4  T00001_S005           0           0        0        1            0       0"
      ]
     },
     "execution_count": null,
     "metadata": {},
     "output_type": "execute_result"
    }
   ],
   "source": [
    "test_submission.head()"
   ]
  },
  {
   "cell_type": "code",
   "execution_count": null,
   "metadata": {},
   "outputs": [],
   "source": [
    "test_submission.to_csv('submission.csv', index=False)"
   ]
  }
 ],
 "metadata": {
  "kernelspec": {
   "display_name": "Python (Data Mining)",
   "language": "python",
   "name": "data_mining"
  },
  "language_info": {
   "codemirror_mode": {
    "name": "ipython",
    "version": 3
   },
   "file_extension": ".py",
   "mimetype": "text/x-python",
   "name": "python",
   "nbconvert_exporter": "python",
   "pygments_lexer": "ipython3",
   "version": "3.7.5"
  }
 },
 "nbformat": 4,
 "nbformat_minor": 2
}
